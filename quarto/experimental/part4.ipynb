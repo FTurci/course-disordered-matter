{
 "cells": [
  {
   "cell_type": "markdown",
   "id": "29df847a-299a-437d-bcf6-d52f24c6f997",
   "metadata": {},
   "source": [
    "# Measurement of structure and dynamics\n",
    "\n",
    "## Introduction\n",
    "\n",
    "In the previous sections we have discussed the physical properties of materials, their structure as observed in real space and the relationship between real-space structure $g(r)$ and the reciprocal space structure $S(Q)$ as observed, in for example, diffraction experiments. It is quite straoghtforward to distingush between for example crystals and glasses in a diffraction pattern, indeed the transition between  a liquid and crystal can be observed in  simple experiments. Similarly, second order phase transitions can be studied easily, for example in small angle scattering experiments where the increase in correlation length near the transition gives rise to a strong small angle scattering signal and critical opalescence. In comparison, the transition from a liquid to glass and vice versa can be almost impossible to observe difrraction experimennts alone. Furthermore, theoretical approaches to understand the glass transition highlight the importance of the changes in the atomic dynamics on passing through the transition. \n",
    "\n",
    "So how do we look at the dynamics - the motion of particle around each other?"
   ]
  },
  {
   "cell_type": "markdown",
   "id": "200d5784-c0fa-43c2-85c8-f87eb9d1033c",
   "metadata": {},
   "source": [
    "## Dynamics in colloidal systems\n",
    "\n",
    "In part II we saw how the structure of colloidal systems consisting of micro- and nano-sized particles could be studied using confocal microscopy. In essence, the idea was that you could take a 'snap shot' of the atom positions, determine their positions and hence work out properties such as $g(r)$ for example. As we mentioned above, from these snapshots it is not easy to decided whether the material is a liquid, where the particles may diffuse freely from their initial positions, or a glass, where the particles will oscilate around a fixed position in space but not diffuse.In other words, if we wish to establish whether we have a liquid or a glass we need to track the particles. The study of the dynamics in colloidal systems has progressed rapidly through the developmemt of confocal microscopy and high speed digital imaging. The atomic dynamics in then obtained using sophisticated particle tracking software. For example, at the glass transition there is a noticeable change and separation of the long timescale motion (for example diffusion) of the particles (the so called $\\alpha$ relaxation) and the \\'rattling' of the particles as they are temporarily trapped in the cages formed by their nearest neighbours (the so called $\\beta$ relaxaion). The separation of these motions underpins theories of the glass transitions and careful analysis of the motions is used to validate the theory. Needless to say, a universal theory of the glass transition is far from being achieved at the current time. \n"
   ]
  },
  {
   "cell_type": "markdown",
   "id": "9cd0ad14-a2fc-425f-9760-b28f712e1871",
   "metadata": {},
   "source": [
    "## Dynamical correlation functions\n",
    "\n",
    "The theoertical qunatity that is used to describe the struture and the dynamics is $G(r,t)$ that is similar $g(r)$ except it describes how the system evolves with time. In simple words we may say it describes the probability of finding a particle that was at positions $r$ at $t=0$ to finding it at $r$ at some time $t$ later. Note. this also applies to our particle at the origin. Hence we see that $G(r,t)$ tells us not only about the particle positions but their movement (i.e. if a particle is diffusing it never return to its initial position, if it is vibrating it will oscillate about a mean position etc). We will not go into any detail about the theoretical predication for these correlation functions and what they characterise but rather briefly explore the methods by which we can measure them.\n",
    "\n",
    "Firstly we can extend the relationship we found between $g(r)$ (real space) and $S(Q)$ (reciproal space) to their functions coupled with time $t$ (\\'real time') to reciprocal time (frequency $\\omega$. The process involves the double application of the fourier transform, one transforming $x\\rightarrow k$ and the other $t\\rightarrow \\omega$. This could be done in different orders and the functions obtained after the first transform are indicated by $I$ and $I'$ below,\n",
    "\n",
    "$G(r,t) \\leftrightarrow I(Q,t) \\leftrightarrow S(Q,\\omega)$\n",
    "\n",
    "or \n",
    "\n",
    "$G(r,t) \\leftrightarrow I'(r,\\omega) \\leftrightarrow S(Q,\\omega)$\n",
    "\n",
    "where $\\leftrightarrow$ is a fourier transform operation. $I$ and $I'$ are known as the intermediate scattering functions. \n",
    "\n",
    "The experimentally important correlation functions (the ones we can measure) are $G(r,t)$ for which we have described experimental measurement via imaging in colloidal systems already, $I(Q,t)$ and $S(Q,\\omega)$. We will concentrate on how these quantities may be measured rather than any details of how they may be interpreted for specific systems. I am not aware of any direct measurements of $I'(r,\\omega)$.If you find any please let me know!"
   ]
  },
  {
   "cell_type": "markdown",
   "id": "f02321c0-a61b-47ce-b2b6-a8e722d5b122",
   "metadata": {},
   "source": [
    "## The dynamical structure factor $S(Q,\\omega)$\n",
    "\n",
    "In our consideration of diffraction we saw the intensity was measured as a function of scattering angle. We then convert to $Q$ with the relation $Q=4\\pi\\sin \\theta/\\lambda$. In our simple description of diffraction we also assumed the scattering was elastic (we covered up a lot in this simple assumption!). However, if our incident quantum (X-ray, neutron, ...) can exchange energy with the material by inelastic collisions or excitation or destruction of e.g. vibrational modes we will see a distrition of energies of our quanta in our detector. The usual assumption for diffraction experiments (and a danger lies here, especially for neutron scattering from hydrogenous materials) is that these energy exchanges are small (i.e. $\\lambda$ for the scattered quantum is approximately the same as the incident $\\lambda$) so our definition of $Q$ holds. We generally also assume our detectors are not sensitive to energy of the quantum detected (that is they are \\'black'). To be precise, rather than assuming elastic scaterring we are treating the scattering in the \\'static approximation'. Another, informal way of expressing this, is that the positions of the atoms have not moved significantly during the time in which the quantum is being scattered. For the case of X-rays, that have energies of the order of 10s of keV (compared to typical vibrational enegies of $<$ an eV), and move at the speed of light across the sample, the static approximation works well. However, thermal neutrons (from for example a nuclear reactor) have an energy of typically $k_BT$ or $\\sim$ 25 meV (but depending on the moderator source used) that is of the same order of typical vibrations in our material. Their speed is also about 2000 m$\\cdot$s$^{-1}$ that is another way of saying the atoms are moving signicantly over the timescale in which the neutron is passing. This deviation from the static approximation means care needs to be taken when analysing diffraction data from hydrogeneous samples (as the neutron and protron have similar mass giving rise to a significant recoil). However, it also means that it relatively easy to construct neutron scattering instruments that can analyse the energy of the scattered neutrons and hence to measure $S(Q,\\omega)$ directly. There are two typical methods by which this is done: inserting a crystal analyser (that uses the Bragg scattering from an oriented crystal to separate the neutron energies by the angle they scatter from the crystal) or by using pulses of incident neutrons and measuring the time of flight to the detector (in this case if the energy of the neutron is increased it will arrive earlier than an elastically scattered neutron or if it loses energy it will arrive later). These instruments are known as triple axis and time of flight spectrometers respectively. Triple axis spectrometers are most often used for looking at excitations (phonons, magnetic etc.) in crystalline materials whereas the time of flight spectrometers are more often used for studying molecular vibrations, rotation and diffusion in hydrogenoeous materials. \n",
    "\n",
    "The majority of neutron scattering instruments are designed and built to measure $S(Q,\\omega)$. None can cover the whole of \\'$Q,\\omega$ space' and the choice of instrument depends on the phenomenon studied and where it manifests itself. This is why neutron sources such as the ILL have upwards of 30 different instruments optimised for different types of experiment."
   ]
  },
  {
   "cell_type": "markdown",
   "id": "f52ce3e4-6b6e-44f1-a628-30d4cd9a29b2",
   "metadata": {},
   "source": [
    "## The intermediate scattering factor $I(Q,t)$\n",
    "\n",
    "There is one netron technique that is rather unique and specialised but I mention it here as one of the key areas it has been used is in the study of polymers and glassy polymers. It is known as Neutron Spin Echo (NSE)and relies crucially on the neutron magnetic monment and the effect on its precession after scattering. I will not attempt to explain the theory here but information the IN15 spin-echo spectrometer may be found at the ILL website <href>https://www.ill.eu/for-ill-users/instruments/instruments-list/in15/description/instrument-layout</href>  The key point about the technique is that it measures directly $I(Q,t)$ rather than $S(Q,\\omega)$. "
   ]
  },
  {
   "cell_type": "markdown",
   "id": "7b69eaa7-ba2b-4904-aea3-ca5beb7d060a",
   "metadata": {},
   "source": [
    "## The role of hydrogen in inelastic neutron scattering\n",
    "\n",
    "By a quirk of nature the scattering of neutrons from hydrogen atoms is almost perfectly incoherent. The reason is the weighted spin-up and spin-down scattering lengths are equal and opposite. As the spin orientation is random on the hydrogen atoms in a material the consequence is we get no overall interference effect.  Hence even for a crstalline hydrogeneous material you would not expect to see any Bragg peaks due to the hydrogen atoms.  Another example of an incoherent scatterer is crystalline Vanadium that shows no (almost) Bragg peaks in its diffraction pattern. It might appear that this a disadvantage. However, in inelastic scattering it means that the scattering from the hydrogen is intimately linked with the dynamical motion of the individual hydrogen atoms (freely diffusing, caged ...) making it especially useful for studying polymers etc. In contrast, deuteriuem is an almost perfectly coherent scatterer meaning you can get the best of both worlds! (Although, mistakes have been made in assuming hydrogenated and deuterated samples behave in exactly the same way). The exploitation of the hydrogen incoherency is mostly used in quasi-elastic neutron scattering measurements.   "
   ]
  },
  {
   "cell_type": "markdown",
   "id": "c3c14d22-e1a5-4aae-a42f-66f5de7cd343",
   "metadata": {},
   "source": [
    "## N.M.R\n",
    "\n",
    "We have lready mentioned that Nuclear Magnetic Resonace may be used to infer the local structure around active ions in materials. However, the relaxation rates observed in N.M.R. experiments (there is a simple apparatus that shows this in the third year MSci lab) depend on the local environment of the active nucleus and the motion of neighbouring atoms. As a consequence, measurements of N.M.R. relaxtion rates may also be used to obtain information about the dynamics. In conrtrast to the neutron scattering measurements, where typical timescales for the motion observed are of the order of nanoseconds the N.M.R. relaxation rates are closer to microseconds. Proton NMR is used extensively for studying hydrogenated materials and as for the neutron case the use of selective deuteratiom of the systems under study enables a focus on a particular sections of a molecule to be obtained. In contrast to neutron scattering methods, N.M.R. spectrometers can fit in a normal lab. making them more accessible, although, they can still cost millions of pounds.  "
   ]
  },
  {
   "cell_type": "markdown",
   "id": "ba0f911d-b5b4-472b-90e7-df437a42c3f3",
   "metadata": {},
   "source": [
    "# Other technqiues\n",
    "\n",
    "As I explained earlier, a comprehensive summary of all the techniques one might use is virtually impossible to give. Other technqiues I have not mentioned include\n",
    "\n",
    "-Electron Microscopy and Diffraction,\n",
    "-Mechanical testing,"
   ]
  }
 ],
 "metadata": {
  "kernelspec": {
   "display_name": "Python 3 (ipykernel)",
   "language": "python",
   "name": "python3"
  },
  "language_info": {
   "codemirror_mode": {
    "name": "ipython",
    "version": 3
   },
   "file_extension": ".py",
   "mimetype": "text/x-python",
   "name": "python",
   "nbconvert_exporter": "python",
   "pygments_lexer": "ipython3",
   "version": "3.8.19"
  }
 },
 "nbformat": 4,
 "nbformat_minor": 5
}
