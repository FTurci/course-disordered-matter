{
 "cells": [
  {
   "cell_type": "code",
   "execution_count": 86,
   "id": "e82810a5",
   "metadata": {},
   "outputs": [
    {
     "data": {
      "text/plain": [
       "<module 'src.hardspheres' from '/Users/ft14968/Repos/course-disordered-matter/quarto/soft-matter/src/hardspheres.py'>"
      ]
     },
     "execution_count": 86,
     "metadata": {},
     "output_type": "execute_result"
    }
   ],
   "source": [
    "from src import hardspheres\n",
    "from importlib import reload\n",
    "reload(hardspheres)"
   ]
  },
  {
   "cell_type": "code",
   "execution_count": 102,
   "id": "013db5c3",
   "metadata": {},
   "outputs": [
    {
     "data": {
      "text/plain": [
       "0.33029"
      ]
     },
     "execution_count": 102,
     "metadata": {},
     "output_type": "execute_result"
    }
   ],
   "source": [
    "tj, acceptance = hardspheres.hs_mc(0.45,5.0, nsteps=100000)\n",
    "acceptance\n"
   ]
  },
  {
   "cell_type": "code",
   "execution_count": 103,
   "id": "7966d55b",
   "metadata": {},
   "outputs": [
    {
     "data": {
      "text/plain": [
       "[<matplotlib.lines.Line2D at 0x173f93ad0>]"
      ]
     },
     "execution_count": 103,
     "metadata": {},
     "output_type": "execute_result"
    },
    {
     "data": {
      "image/png": "[encoded data removed]",
      "text/plain": [
       "<Figure size 640x480 with 1 Axes>"
      ]
     },
     "metadata": {},
     "output_type": "display_data"
    }
   ],
   "source": [
    "import numpy as np\n",
    "\n",
    "bins = 50\n",
    "\n",
    "def radial_distr(positions, L):\n",
    "    N = len(positions)\n",
    "    \n",
    "    # Compute all pairwise distances with PBC\n",
    "    diff = positions[:, np.newaxis, :] - positions[np.newaxis, :, :]\n",
    "    diff = diff - L * np.round(diff / L)\n",
    "    dists_matrix = np.sqrt(np.sum(diff**2, axis=-1))\n",
    "    \n",
    "    # Get upper triangular distances (each pair counted once)\n",
    "    i, j = np.triu_indices(N, k=1)\n",
    "    dists = dists_matrix[i, j]\n",
    "    \n",
    "    # Create histogram\n",
    "    r_max = L/2\n",
    "    r_edges = np.linspace(0, r_max, bins+1)\n",
    "    hist, _ = np.histogram(dists, bins=r_edges)\n",
    "    r_centers = 0.5 * (r_edges[:-1] + r_edges[1:])\n",
    "    \n",
    "    # Calculate g(r) with correct normalization\n",
    "    rho = N / L**3  # number density\n",
    "    dr = r_edges[1:] - r_edges[:-1]  # bin widths\n",
    "    \n",
    "    # Volume of spherical shell\n",
    "    shell_volumes = 4 * np.pi * r_centers**2 * dr\n",
    "    \n",
    "    # For each particle, expected number of neighbors in shell = rho * shell_volume\n",
    "    # Total expected pairs in shell = N * rho * shell_volume / 2 \n",
    "    # (divide by 2 because we count each pair once)\n",
    "    expected_pairs = N * rho * shell_volumes / 2\n",
    "    \n",
    "    # g(r) = actual_pairs / expected_pairs\n",
    "    g_r = hist / expected_pairs\n",
    "    \n",
    "    return r_centers, g_r\n",
    "\n",
    "gs = []\n",
    "for positions in tj[10:]:\n",
    "    _r, _g = radial_distr(positions, 5.0)\n",
    "    # plt.plot(_r,_g)\n",
    "    gs.append(_g)\n",
    "\n",
    "import matplotlib.pyplot as plt\n",
    "\n",
    "plt.plot(_r, np.mean(gs, axis=0))"
   ]
  },
  {
   "cell_type": "code",
   "execution_count": 79,
   "id": "93848ebd",
   "metadata": {},
   "outputs": [
    {
     "data": {
      "text/plain": [
       "1000"
      ]
     },
     "execution_count": 79,
     "metadata": {},
     "output_type": "execute_result"
    }
   ],
   "source": [
    "len(tj)"
   ]
  },
  {
   "cell_type": "code",
   "execution_count": null,
   "id": "3bd59972",
   "metadata": {},
   "outputs": [],
   "source": []
  }
 ],
 "metadata": {
  "kernelspec": {
   "display_name": "Python 3",
   "language": "python",
   "name": "python3"
  },
  "language_info": {
   "codemirror_mode": {
    "name": "ipython",
    "version": 3
   },
   "file_extension": ".py",
   "mimetype": "text/x-python",
   "name": "python",
   "nbconvert_exporter": "python",
   "pygments_lexer": "ipython3",
   "version": "3.11.1"
  }
 },
 "nbformat": 4,
 "nbformat_minor": 5
}
